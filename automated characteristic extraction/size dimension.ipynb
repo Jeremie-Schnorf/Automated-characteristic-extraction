{
 "cells": [
  {
   "cell_type": "markdown",
   "id": "735ef922-de05-46b5-940b-89207dd8d8d9",
   "metadata": {},
   "source": [
    "import pandas library"
   ]
  },
  {
   "cell_type": "code",
   "execution_count": 2,
   "id": "d6eb79c3-5a38-401d-9d08-be2e2ebcfbe4",
   "metadata": {},
   "outputs": [],
   "source": [
    "import pandas as pd"
   ]
  },
  {
   "cell_type": "markdown",
   "id": "a0f9b65b-77a7-47ee-be68-9854e9ad0138",
   "metadata": {},
   "source": [
    "Import BPI challenge 2019 csv file"
   ]
  },
  {
   "cell_type": "code",
   "execution_count": 3,
   "id": "4cfbe226-8cfc-4875-b0fa-f8f1ba8f0652",
   "metadata": {},
   "outputs": [
    {
     "name": "stdout",
     "output_type": "stream",
     "text": [
      "                  Case ID                             Activity  Resource  \\\n",
      "0        2000000000_00001                         SRM: Created  batch_00   \n",
      "1        2000000000_00001                        SRM: Complete  batch_00   \n",
      "2        2000000000_00001               SRM: Awaiting Approval  batch_00   \n",
      "3        2000000000_00001              SRM: Document Completed  batch_00   \n",
      "4        2000000000_00001  SRM: In Transfer to Execution Syst.  batch_00   \n",
      "...                   ...                                  ...       ...   \n",
      "1595918  4508076348_00090   Change Approval for Purchase Order  user_603   \n",
      "1595919  4508076348_00100           Create Purchase Order Item  user_602   \n",
      "1595920  4508076348_00100   Change Approval for Purchase Order  user_603   \n",
      "1595921  4508076348_00110           Create Purchase Order Item  user_602   \n",
      "1595922  4508076348_00110   Change Approval for Purchase Order  user_603   \n",
      "\n",
      "              Complete Timestamp     Variant  Variant index      User  \\\n",
      "0        2018-01-02 13:53:00.000  Variant 65             65  batch_00   \n",
      "1        2018-01-02 14:53:00.000  Variant 65             65  batch_00   \n",
      "2        2018-01-02 14:53:00.000  Variant 65             65  batch_00   \n",
      "3        2018-01-02 14:53:00.000  Variant 65             65  batch_00   \n",
      "4        2018-01-02 14:53:00.000  Variant 65             65  batch_00   \n",
      "...                          ...         ...            ...       ...   \n",
      "1595918  2019-01-17 15:00:00.000  Variant 68             68  user_603   \n",
      "1595919  2019-01-17 14:32:00.000  Variant 68             68  user_602   \n",
      "1595920  2019-01-17 15:00:00.000  Variant 68             68  user_603   \n",
      "1595921  2019-01-17 14:32:00.000  Variant 68             68  user_602   \n",
      "1595922  2019-01-17 15:00:00.000  Variant 68             68  user_603   \n",
      "\n",
      "         Cumulative net worth (EUR) Spend area text         Company  ...  \\\n",
      "0                             298.0    CAPEX & SOCS  companyID_0000  ...   \n",
      "1                             298.0    CAPEX & SOCS  companyID_0000  ...   \n",
      "2                             298.0    CAPEX & SOCS  companyID_0000  ...   \n",
      "3                             298.0    CAPEX & SOCS  companyID_0000  ...   \n",
      "4                             298.0    CAPEX & SOCS  companyID_0000  ...   \n",
      "...                             ...             ...             ...  ...   \n",
      "1595918                      1385.0             NaN  companyID_0003  ...   \n",
      "1595919                      1385.0             NaN  companyID_0003  ...   \n",
      "1595920                      1385.0             NaN  companyID_0003  ...   \n",
      "1595921                      1385.0             NaN  companyID_0003  ...   \n",
      "1595922                      1385.0             NaN  companyID_0003  ...   \n",
      "\n",
      "        Purch. Doc. Category name         Vendor  Item Type  \\\n",
      "0                  Purchase order  vendorID_0000   Standard   \n",
      "1                  Purchase order  vendorID_0000   Standard   \n",
      "2                  Purchase order  vendorID_0000   Standard   \n",
      "3                  Purchase order  vendorID_0000   Standard   \n",
      "4                  Purchase order  vendorID_0000   Standard   \n",
      "...                           ...            ...        ...   \n",
      "1595918            Purchase order  vendorID_1974      Limit   \n",
      "1595919            Purchase order  vendorID_1974      Limit   \n",
      "1595920            Purchase order  vendorID_1974      Limit   \n",
      "1595921            Purchase order  vendorID_1974      Limit   \n",
      "1595922            Purchase order  vendorID_1974      Limit   \n",
      "\n",
      "                          Item Category Spend classification text  \\\n",
      "0        3-way match, invoice before GR                       NPR   \n",
      "1        3-way match, invoice before GR                       NPR   \n",
      "2        3-way match, invoice before GR                       NPR   \n",
      "3        3-way match, invoice before GR                       NPR   \n",
      "4        3-way match, invoice before GR                       NPR   \n",
      "...                                 ...                       ...   \n",
      "1595918                     2-way match                       NaN   \n",
      "1595919                     2-way match                       NaN   \n",
      "1595920                     2-way match                       NaN   \n",
      "1595921                     2-way match                       NaN   \n",
      "1595922                     2-way match                       NaN   \n",
      "\n",
      "                      Source         Name GR-Based Inv. Verif. Item  \\\n",
      "0        sourceSystemID_0000  vendor_0000                False    1   \n",
      "1        sourceSystemID_0000  vendor_0000                False    1   \n",
      "2        sourceSystemID_0000  vendor_0000                False    1   \n",
      "3        sourceSystemID_0000  vendor_0000                False    1   \n",
      "4        sourceSystemID_0000  vendor_0000                False    1   \n",
      "...                      ...          ...                  ...  ...   \n",
      "1595918  sourceSystemID_0000  vendor_1898                False   90   \n",
      "1595919  sourceSystemID_0000  vendor_1898                False  100   \n",
      "1595920  sourceSystemID_0000  vendor_1898                False  100   \n",
      "1595921  sourceSystemID_0000  vendor_1898                False  110   \n",
      "1595922  sourceSystemID_0000  vendor_1898                False  110   \n",
      "\n",
      "        Goods Receipt  \n",
      "0                True  \n",
      "1                True  \n",
      "2                True  \n",
      "3                True  \n",
      "4                True  \n",
      "...               ...  \n",
      "1595918         False  \n",
      "1595919         False  \n",
      "1595920         False  \n",
      "1595921         False  \n",
      "1595922         False  \n",
      "\n",
      "[1595923 rows x 23 columns]\n"
     ]
    }
   ],
   "source": [
    "BPI_challenge_2019= pd.read_csv(\"BPI_Challenge_2019.csv\", sep=',')\n",
    "print(BPI_challenge_2019)"
   ]
  },
  {
   "cell_type": "markdown",
   "id": "fdc64648-b2c0-43ef-a9d8-15adc4ca1877",
   "metadata": {},
   "source": [
    "Create a function that extracts the number of events of the event log"
   ]
  },
  {
   "cell_type": "code",
   "execution_count": 4,
   "id": "4002c9bb-45c6-40a1-b89f-cc38f69f2612",
   "metadata": {},
   "outputs": [],
   "source": [
    "def number_of_events(event_log):\n",
    "    row_numbers = len(event_log)\n",
    "    return (row_numbers)"
   ]
  },
  {
   "cell_type": "markdown",
   "id": "9beee6ac-7c24-490e-85e7-974be8169758",
   "metadata": {},
   "source": [
    "Create a function that extract the attribute names of the event log"
   ]
  },
  {
   "cell_type": "code",
   "execution_count": 5,
   "id": "48688f2b-5f7d-4c1c-88aa-ba3f996fbac2",
   "metadata": {},
   "outputs": [],
   "source": [
    "def attribute_names (event_log):\n",
    "    attr_names= (event_log.columns.values.tolist())\n",
    "    return (attr_names)"
   ]
  },
  {
   "cell_type": "markdown",
   "id": "4e3311d0-7da2-4894-a169-e6fe6d2b4551",
   "metadata": {},
   "source": [
    "Create a function that extracts the number of attributes of the event log"
   ]
  },
  {
   "cell_type": "code",
   "execution_count": 6,
   "id": "85cb8406-9112-4ae2-b650-fddf0ecbeba3",
   "metadata": {},
   "outputs": [],
   "source": [
    "def number_of_attributes (event_log):\n",
    "    index_attr= attribute_names(event_log)\n",
    "    num_attr=len(index_attr)\n",
    "    return(num_attr)"
   ]
  },
  {
   "cell_type": "markdown",
   "id": "04cdc549-8069-4c0f-9c9e-74108023ee38",
   "metadata": {},
   "source": [
    "Create a function that extracts the number of cases from the event log and calculates and uses the \n",
    "number_of_events function to calculate the cases to event ratio. To calculate the number of cases the column's name containing the case ID must be known. The default value is \"Case ID\" as this is a very common name for this column. In the case the column name differs the name must be inputted manually as a second variable.\n"
   ]
  },
  {
   "cell_type": "code",
   "execution_count": 11,
   "id": "23dd093a-b03d-4fa5-ad42-c76534142e9d",
   "metadata": {},
   "outputs": [],
   "source": [
    "def number_of_cases_and_caseEventCaseRatio (event_log, Case_ID = \"Case ID\"):\n",
    "    list_cases= event_log[Case_ID]\n",
    "    number_cases= len(set(list(list_cases)))\n",
    "    event_cases_ratio= number_of_events(event_log)/number_cases\n",
    "    return [number_cases,event_cases_ratio]"
   ]
  },
  {
   "cell_type": "markdown",
   "id": "9455b895-2fdc-49f7-bdcf-38a31884cf9d",
   "metadata": {},
   "source": [
    "All previously defined functions are combined into a function that can output the size dimension characteristics."
   ]
  },
  {
   "cell_type": "code",
   "execution_count": 14,
   "id": "21d883b7-9c60-4e86-95fe-9177d2753f81",
   "metadata": {},
   "outputs": [],
   "source": [
    "def size_eventlog(eventlog, Case_ID = \"Case ID\"):\n",
    "    print(\"information about the size of the event log\")\n",
    "    print (\"There are {}  events.\".format(number_of_events(eventlog)))\n",
    "    print(\"There are {} attributes\".format(number_of_attributes(eventlog)))\n",
    "    print(\"The attribute names are {}\".format(attribute_names(eventlog)))\n",
    "    print(\"There are {} cases.\".format(number_of_cases_and_caseEventCaseRatio(BPI_challenge_2019, Case_ID)[0]))\n",
    "    print(\"The cases to events ratio is {}.\".format(number_of_cases_and_caseEventCaseRatio(BPI_challenge_2019,\"Case ID\")[1]))"
   ]
  },
  {
   "cell_type": "markdown",
   "id": "54a480b2-18ba-48a3-ae96-5e9870f1f789",
   "metadata": {},
   "source": [
    "The function is used on the previously imported event log BPI_challenge_2019. The resulting outputs are the characteristics of the size dimension. "
   ]
  },
  {
   "cell_type": "code",
   "execution_count": 15,
   "id": "44387167-ffed-4e99-be48-a0059e4709c6",
   "metadata": {},
   "outputs": [
    {
     "name": "stdout",
     "output_type": "stream",
     "text": [
      "information about the size of the event log\n",
      "There are 1595923  events.\n",
      "There are 23 attributes\n",
      "The attribute names are ['Case ID', 'Activity', 'Resource', 'Complete Timestamp', 'Variant', 'Variant index', 'User', 'Cumulative net worth (EUR)', 'Spend area text', 'Company', 'Document Type', 'Sub spend area text', 'Purchasing Document', 'Purch. Doc. Category name', 'Vendor', 'Item Type', 'Item Category', 'Spend classification text', 'Source', 'Name', 'GR-Based Inv. Verif.', 'Item', 'Goods Receipt']\n",
      "There are 251734 cases.\n",
      "The cases to events ratio is 6.33971970413214.\n"
     ]
    }
   ],
   "source": [
    "size_eventlog(BPI_challenge_2019)"
   ]
  }
 ],
 "metadata": {
  "kernelspec": {
   "display_name": "Python 3",
   "language": "python",
   "name": "python3"
  },
  "language_info": {
   "codemirror_mode": {
    "name": "ipython",
    "version": 3
   },
   "file_extension": ".py",
   "mimetype": "text/x-python",
   "name": "python",
   "nbconvert_exporter": "python",
   "pygments_lexer": "ipython3",
   "version": "3.8.8"
  }
 },
 "nbformat": 4,
 "nbformat_minor": 5
}
